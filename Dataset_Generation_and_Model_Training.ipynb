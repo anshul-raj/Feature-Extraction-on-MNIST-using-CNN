{
  "nbformat": 4,
  "nbformat_minor": 0,
  "metadata": {
    "accelerator": "GPU",
    "colab": {
      "name": "Dataset_Generation_and_Model_Training",
      "provenance": [],
      "collapsed_sections": [],
      "toc_visible": true
    },
    "kernelspec": {
      "display_name": "Python 3",
      "name": "python3"
    },
    "language_info": {
      "name": "python"
    }
  },
  "cells": [
    {
      "cell_type": "code",
      "metadata": {
        "id": "Dx51IudtTI3P"
      },
      "source": [
        "import numpy as np\n",
        "import cv2\n",
        "import tensorflow as tf\n",
        "from tqdm import tqdm\n",
        "from google.colab.patches import cv2_imshow \n",
        "from tensorflow import keras\n",
        "from tensorflow.keras import layers,models\n",
        "import pickle\n",
        "\n",
        "dir_path = '/content/drive/MyDrive/CV-HW-images/CV_A3/'\n",
        "\n",
        "(x_train, y_train), (x_test, y_test) = tf.keras.datasets.mnist.load_data(path='mnist.npz')"
      ],
      "execution_count": 26,
      "outputs": []
    },
    {
      "cell_type": "markdown",
      "metadata": {
        "id": "pq3QaMfjMg17"
      },
      "source": [
        "# Data Generation"
      ]
    },
    {
      "cell_type": "markdown",
      "metadata": {
        "id": "gSaNuaLyCdXx"
      },
      "source": [
        "## Part 1 : Creating A Mask using the TSS algorithm"
      ]
    },
    {
      "cell_type": "code",
      "metadata": {
        "colab": {
          "base_uri": "https://localhost:8080/",
          "height": 90
        },
        "id": "9Nv6YXekP07V",
        "outputId": "0c2bbf91-cd1f-4a5d-a5ae-51878f6cc76f"
      },
      "source": [
        "# def TSS(img):\n",
        "#   min_sum = -1\n",
        "#   ans = 0\n",
        "#   f_img = img.flatten()\n",
        "#   for t in range(1,256):\n",
        "\n",
        "#     fg = []\n",
        "#     bg = []\n",
        "\n",
        "#     fg = f_img[f_img>t]\n",
        "#     bg = f_img[f_img<=t]\n",
        "\n",
        "#     tss_fg,tss_bg = 0,0\n",
        "\n",
        "#     if len(fg)>0:\n",
        "#       fg_mean = np.mean(fg)\n",
        "#       tss_fg = np.sum(np.square(fg - fg_mean))\n",
        "\n",
        "#     if len(bg)>0:\n",
        "#       bg_mean = np.mean(bg)\n",
        "#       tss_bg = np.sum(np.square(bg - bg_mean))\n",
        "\n",
        "#     if tss_fg+tss_bg < min_sum or min_sum==-1:\n",
        "#       min_sum=tss_fg+tss_bg\n",
        "#       ans = t\n",
        "\n",
        "#   return ans\n",
        "\n",
        "# y_train_mask = []\n",
        "# y_test_mask = []\n",
        "\n",
        "# for i in tqdm(range(len(x_train)),position=0,leave=True):\n",
        "#   img = x_train[i]\n",
        "#   _,thre_img =  cv2.threshold(img,TSS(img),255,cv2.THRESH_BINARY)\n",
        "#   y_train_mask.append(thre_img)\n",
        "\n",
        "# for i in tqdm(range(len(x_test)),position=0,leave=True):\n",
        "#   img = x_test[i]\n",
        "#   _,thre_img =  cv2.threshold(img,TSS(img),255,cv2.THRESH_BINARY)\n",
        "#   y_test_mask.append(thre_img)\n",
        "\n",
        "# y_train_mask = np.array(y_train_mask)//255\n",
        "# y_test_mask = np.array(y_test_mask)//255\n",
        "\n",
        "# pickle.dump(y_train_mask,open('/content/drive/MyDrive/CV-HW-images/CV_A3/MNIST_DATSET/y_train_mask.pkl','wb'))\n",
        "# pickle.dump(y_test_mask,open('/content/drive/MyDrive/CV-HW-images/CV_A3/MNIST_DATSET/y_test_mask.pkl','wb'))\n",
        "\n",
        "y_train_mask = pickle.load(open('/content/drive/MyDrive/CV-HW-images/CV_A3/MNIST_DATSET/y_train_mask.pkl','rb'))\n",
        "y_test_mask = pickle.load(open('/content/drive/MyDrive/CV-HW-images/CV_A3/MNIST_DATSET/y_test_mask.pkl','rb'))\n",
        "\n",
        "print(y_train_mask.shape,y_test_mask.shape)\n",
        "cv2_imshow(x_train[0]) \n",
        "cv2_imshow(y_train_mask[0]*255)"
      ],
      "execution_count": 27,
      "outputs": [
        {
          "output_type": "stream",
          "text": [
            "(60000, 28, 28) (10000, 28, 28)\n"
          ],
          "name": "stdout"
        },
        {
          "output_type": "display_data",
          "data": {
            "image/png": "[encoded data removed]",
            "text/plain": [
              "<PIL.Image.Image image mode=L size=28x28 at 0x7F5A73932E50>"
            ]
          },
          "metadata": {
            "tags": []
          }
        },
        {
          "output_type": "display_data",
          "data": {
            "image/png": "[encoded data removed]",
            "text/plain": [
              "<PIL.Image.Image image mode=L size=28x28 at 0x7F5A73932550>"
            ]
          },
          "metadata": {
            "tags": []
          }
        }
      ]
    },
    {
      "cell_type": "markdown",
      "metadata": {
        "id": "-b-i6QzTChhm"
      },
      "source": [
        "## Part 2 : Obtaing tight groundtruth circles around the foreground segmentation masks obtained in the previous block"
      ]
    },
    {
      "cell_type": "code",
      "metadata": {
        "colab": {
          "base_uri": "https://localhost:8080/",
          "height": 73
        },
        "id": "E8KR9_3FQB-C",
        "outputId": "cba3342b-6b5a-4bc2-8dbf-ded3444f3186"
      },
      "source": [
        "\n",
        "\n",
        "y_train_circalization = []\n",
        "y_test_circalization = []\n",
        "\n",
        "for img in y_train_mask:\n",
        "  contour,h = cv2.findContours(img,cv2.RETR_EXTERNAL,cv2.CHAIN_APPROX_SIMPLE)\n",
        "  c,r = cv2.minEnclosingCircle(contour[0])\n",
        "\n",
        "  y_train_circalization.append([r,c[0],c[1]])\n",
        "\n",
        "for img in y_test_mask:\n",
        "  contour,h = cv2.findContours(img,cv2.RETR_EXTERNAL,cv2.CHAIN_APPROX_SIMPLE)\n",
        "  c,r = cv2.minEnclosingCircle(contour[0])\n",
        "\n",
        "  y_test_circalization.append([r,c[0],c[1]])\n",
        "\n",
        "y_train_circalization = np.array(y_train_circalization)\n",
        "y_test_circalization = np.array(y_test_circalization)\n",
        "\n",
        "y_train_circalization.shape,y_test_circalization.shape\n",
        "\n",
        "cv2_imshow(y_train_mask[0]*255)\n",
        "cv2_imshow(cv2.circle(y_train_mask[0]*255,tuple(map(round,y_train_circalization[0][1:])),round(y_train_circalization[0][1]),color = (200)))"
      ],
      "execution_count": 28,
      "outputs": [
        {
          "output_type": "display_data",
          "data": {
            "image/png": "[encoded data removed]",
            "text/plain": [
              "<PIL.Image.Image image mode=L size=28x28 at 0x7F5A73BE0F50>"
            ]
          },
          "metadata": {
            "tags": []
          }
        },
        {
          "output_type": "display_data",
          "data": {
            "image/png": "[encoded data removed]",
            "text/plain": [
              "<PIL.Image.Image image mode=L size=28x28 at 0x7F5A73BE0890>"
            ]
          },
          "metadata": {
            "tags": []
          }
        }
      ]
    },
    {
      "cell_type": "markdown",
      "metadata": {
        "id": "V-ET2PZxClBO"
      },
      "source": [
        "## Part 3 : Randomly concatenating 4 images and their corresponding groundtruths obtained in first part, along with the pre-existing labels, in a 2x2 manner to develop new images and semantic segmentation groundtruths, respectively."
      ]
    },
    {
      "cell_type": "code",
      "metadata": {
        "colab": {
          "base_uri": "https://localhost:8080/",
          "height": 146
        },
        "id": "n0iPmKASaxKd",
        "outputId": "432bc515-9d2a-423f-845a-df17111499d7"
      },
      "source": [
        "import random\n",
        "random.seed(0)\n",
        "\n",
        "def concat_4(originals):\n",
        "  a,b,c,d = originals\n",
        "  t1 = np.concatenate((a,b),axis=1)\n",
        "  t2 = np.concatenate((c,d),axis=1)\n",
        "  return np.concatenate((t1,t2))\n",
        "\n",
        "def make_datapoint(originals,labels,masks):\n",
        "  new_x = concat_4(originals)\n",
        "  new_y = []\n",
        "  for i in range(4):\n",
        "    new_y.append(masks[i]*(labels[i]+1))\n",
        "  new_y = concat_4(new_y)\n",
        "  \n",
        "  return new_x,new_y\n",
        "\n",
        "train_shuffler = np.random.permutation(len(x_train))\n",
        "test_shuffler = np.random.permutation(len(x_test))\n",
        "\n",
        "shuffled_x_train = x_train[train_shuffler]\n",
        "shuffled_y_train = y_train[train_shuffler]\n",
        "\n",
        "shuffled_y_train_mask = y_train_mask[train_shuffler]\n",
        "shuffled_y_test_mask = y_test_mask[test_shuffler]\n",
        "\n",
        "shuffled_x_test = x_test[test_shuffler]\n",
        "shuffled_y_test = y_test[test_shuffler]\n",
        "\n",
        "large_x_train = []\n",
        "large_x_test = []\n",
        "large_y_train = []\n",
        "large_y_test = []\n",
        "\n",
        "for i in range(0,len(x_train),4):\n",
        "  originals = shuffled_x_train[i:i+4]\n",
        "  labels = shuffled_y_train[i:i+4]\n",
        "  masks = shuffled_y_train_mask[i:i+4]\n",
        "  new_x,new_y = make_datapoint(originals,labels,masks)\n",
        "\n",
        "  large_x_train.append(new_x)\n",
        "  large_y_train.append(new_y)\n",
        "\n",
        "  # ----------------\n",
        "\n",
        "  if i<len(x_test):\n",
        "    originals = shuffled_x_test[i:i+4]\n",
        "    labels = shuffled_y_test[i:i+4]\n",
        "    masks = shuffled_y_test_mask[i:i+4]\n",
        "    new_x,new_y = make_datapoint(originals,labels,masks)\n",
        "\n",
        "    large_x_test.append(new_x)\n",
        "    large_y_test.append(new_y)\n",
        "\n",
        "\n",
        "large_x_train = np.array(large_x_train)\n",
        "large_x_test = np.array(large_x_test)\n",
        "large_y_train = np.array(large_y_train)\n",
        "large_y_test = np.array(large_y_test)\n",
        "\n",
        "\n",
        "large_x_train.shape,large_x_test.shape\n",
        "\n",
        "cv2_imshow(large_x_train[0])\n",
        "print(' ',end = '')\n",
        "cv2_imshow(large_y_train[0]*255)"
      ],
      "execution_count": 29,
      "outputs": [
        {
          "output_type": "display_data",
          "data": {
            "image/png": "[encoded data removed]",
            "text/plain": [
              "<PIL.Image.Image image mode=L size=56x56 at 0x7F5B1C19CA10>"
            ]
          },
          "metadata": {
            "tags": []
          }
        },
        {
          "output_type": "stream",
          "text": [
            " "
          ],
          "name": "stdout"
        },
        {
          "output_type": "display_data",
          "data": {
            "image/png": "[encoded data removed]",
            "text/plain": [
              "<PIL.Image.Image image mode=L size=56x56 at 0x7F5A73B43310>"
            ]
          },
          "metadata": {
            "tags": []
          }
        }
      ]
    },
    {
      "cell_type": "markdown",
      "metadata": {
        "id": "7VRpacteNFrh"
      },
      "source": [
        "# Model Construction & Training"
      ]
    },
    {
      "cell_type": "markdown",
      "metadata": {
        "id": "6OaLnqSG2w4v"
      },
      "source": [
        "## Training a DL network from scratch for performing foreground extraction on the new dataset obtained in Part 1."
      ]
    },
    {
      "cell_type": "code",
      "metadata": {
        "colab": {
          "base_uri": "https://localhost:8080/"
        },
        "id": "0fXbCW_AWCPz",
        "outputId": "0ec37aa3-2c1a-43ce-9b23-7bb1c937f12e"
      },
      "source": [
        "class MyJaccardMetric(tf.keras.metrics.MeanIoU):\n",
        "  def update_state(self,y_true,y_pred,sample_weight=None):\n",
        "    output = tf.math.argmax(y_pred,axis=3)\n",
        "    return super().update_state(y_true,output)\n",
        "\n",
        "\n",
        "model_Q2 = models.Sequential([\n",
        "      layers.Conv2D(16,kernel_size=(3,3),strides=(1,1),input_shape = (28,28,1),activation='relu',padding='same'),\n",
        "      layers.MaxPool2D(),\n",
        "      layers.Conv2D(32,kernel_size=(3,3),strides=(1,1),activation='relu',padding='same'),\n",
        "      layers.MaxPool2D(),\n",
        "      layers.Conv2D(64,kernel_size=(3,3),strides=(1,1),activation='relu',padding='same'),\n",
        "      layers.Conv2D(32,kernel_size=(3,3),strides=(1,1),activation='relu',padding='same'),\n",
        "      layers.Conv2DTranspose(32,(2,2),(2,2),activation='relu'),\n",
        "      layers.Conv2D(16,kernel_size=(3,3),strides=(1,1),activation='relu',padding='same'),\n",
        "      layers.Conv2DTranspose(16,(2,2),(2,2),activation='relu'),\n",
        "      layers.Conv2D(2,kernel_size=(3,3),strides=(1,1),padding='same'),\n",
        "      layers.Softmax(axis=3)\n",
        "])\n",
        "\n",
        "model_Q2.compile(optimizer='adam',\n",
        "              loss = keras.losses.sparse_categorical_crossentropy,\n",
        "              metrics  = ['accuracy',MyJaccardMetric(num_classes = 2)])\n",
        "\n",
        "model_Q2.summary()"
      ],
      "execution_count": 30,
      "outputs": [
        {
          "output_type": "stream",
          "text": [
            "Model: \"sequential_4\"\n",
            "_________________________________________________________________\n",
            "Layer (type)                 Output Shape              Param #   \n",
            "=================================================================\n",
            "conv2d_33 (Conv2D)           (None, 28, 28, 16)        160       \n",
            "_________________________________________________________________\n",
            "max_pooling2d_14 (MaxPooling (None, 14, 14, 16)        0         \n",
            "_________________________________________________________________\n",
            "conv2d_34 (Conv2D)           (None, 14, 14, 32)        4640      \n",
            "_________________________________________________________________\n",
            "max_pooling2d_15 (MaxPooling (None, 7, 7, 32)          0         \n",
            "_________________________________________________________________\n",
            "conv2d_35 (Conv2D)           (None, 7, 7, 64)          18496     \n",
            "_________________________________________________________________\n",
            "conv2d_36 (Conv2D)           (None, 7, 7, 32)          18464     \n",
            "_________________________________________________________________\n",
            "conv2d_transpose_8 (Conv2DTr (None, 14, 14, 32)        4128      \n",
            "_________________________________________________________________\n",
            "conv2d_37 (Conv2D)           (None, 14, 14, 16)        4624      \n",
            "_________________________________________________________________\n",
            "conv2d_transpose_9 (Conv2DTr (None, 28, 28, 16)        1040      \n",
            "_________________________________________________________________\n",
            "conv2d_38 (Conv2D)           (None, 28, 28, 2)         290       \n",
            "_________________________________________________________________\n",
            "softmax_4 (Softmax)          (None, 28, 28, 2)         0         \n",
            "=================================================================\n",
            "Total params: 51,842\n",
            "Trainable params: 51,842\n",
            "Non-trainable params: 0\n",
            "_________________________________________________________________\n"
          ],
          "name": "stdout"
        }
      ]
    },
    {
      "cell_type": "code",
      "metadata": {
        "colab": {
          "base_uri": "https://localhost:8080/"
        },
        "id": "yOAbZUZqkn_c",
        "outputId": "d0308787-7d37-437f-e202-6df0b0d04978"
      },
      "source": [
        "history_Q2 = model_Q2.fit(x = x_train.reshape((-1, 28, 28, 1))/255,\n",
        "                          y = y_train_mask,\n",
        "                          batch_size = 128,\n",
        "                          epochs = 50,\n",
        "                          validation_data=(x_test.reshape((-1, 28, 28, 1))/255, y_test_mask))"
      ],
      "execution_count": 31,
      "outputs": [
        {
          "output_type": "stream",
          "text": [
            "Epoch 1/50\n",
            "469/469 [==============================] - 12s 23ms/step - loss: 0.1133 - accuracy: 0.9506 - my_jaccard_metric_4: 0.8083 - val_loss: 0.0439 - val_accuracy: 0.9814 - val_my_jaccard_metric_4: 0.9288\n",
            "Epoch 2/50\n",
            "469/469 [==============================] - 10s 21ms/step - loss: 0.0385 - accuracy: 0.9840 - my_jaccard_metric_4: 0.9364 - val_loss: 0.0352 - val_accuracy: 0.9851 - val_my_jaccard_metric_4: 0.9420\n",
            "Epoch 3/50\n",
            "469/469 [==============================] - 10s 21ms/step - loss: 0.0331 - accuracy: 0.9862 - my_jaccard_metric_4: 0.9447 - val_loss: 0.0307 - val_accuracy: 0.9871 - val_my_jaccard_metric_4: 0.9491\n",
            "Epoch 4/50\n",
            "469/469 [==============================] - 10s 21ms/step - loss: 0.0301 - accuracy: 0.9874 - my_jaccard_metric_4: 0.9494 - val_loss: 0.0284 - val_accuracy: 0.9882 - val_my_jaccard_metric_4: 0.9527\n",
            "Epoch 5/50\n",
            "469/469 [==============================] - 10s 22ms/step - loss: 0.0284 - accuracy: 0.9881 - my_jaccard_metric_4: 0.9521 - val_loss: 0.0277 - val_accuracy: 0.9883 - val_my_jaccard_metric_4: 0.9538\n",
            "Epoch 6/50\n",
            "469/469 [==============================] - 10s 22ms/step - loss: 0.0269 - accuracy: 0.9887 - my_jaccard_metric_4: 0.9545 - val_loss: 0.0264 - val_accuracy: 0.9891 - val_my_jaccard_metric_4: 0.9558\n",
            "Epoch 7/50\n",
            "469/469 [==============================] - 10s 21ms/step - loss: 0.0258 - accuracy: 0.9892 - my_jaccard_metric_4: 0.9563 - val_loss: 0.0247 - val_accuracy: 0.9897 - val_my_jaccard_metric_4: 0.9588\n",
            "Epoch 8/50\n",
            "469/469 [==============================] - 10s 22ms/step - loss: 0.0249 - accuracy: 0.9896 - my_jaccard_metric_4: 0.9577 - val_loss: 0.0242 - val_accuracy: 0.9899 - val_my_jaccard_metric_4: 0.9597\n",
            "Epoch 9/50\n",
            "469/469 [==============================] - 10s 22ms/step - loss: 0.0241 - accuracy: 0.9899 - my_jaccard_metric_4: 0.9590 - val_loss: 0.0241 - val_accuracy: 0.9899 - val_my_jaccard_metric_4: 0.9599\n",
            "Epoch 10/50\n",
            "469/469 [==============================] - 10s 22ms/step - loss: 0.0236 - accuracy: 0.9901 - my_jaccard_metric_4: 0.9599 - val_loss: 0.0236 - val_accuracy: 0.9902 - val_my_jaccard_metric_4: 0.9603\n",
            "Epoch 11/50\n",
            "469/469 [==============================] - 10s 22ms/step - loss: 0.0230 - accuracy: 0.9904 - my_jaccard_metric_4: 0.9609 - val_loss: 0.0224 - val_accuracy: 0.9907 - val_my_jaccard_metric_4: 0.9627\n",
            "Epoch 12/50\n",
            "469/469 [==============================] - 10s 22ms/step - loss: 0.0225 - accuracy: 0.9906 - my_jaccard_metric_4: 0.9617 - val_loss: 0.0216 - val_accuracy: 0.9910 - val_my_jaccard_metric_4: 0.9638\n",
            "Epoch 13/50\n",
            "469/469 [==============================] - 10s 22ms/step - loss: 0.0219 - accuracy: 0.9909 - my_jaccard_metric_4: 0.9627 - val_loss: 0.0218 - val_accuracy: 0.9909 - val_my_jaccard_metric_4: 0.9636\n",
            "Epoch 14/50\n",
            "469/469 [==============================] - 10s 22ms/step - loss: 0.0215 - accuracy: 0.9910 - my_jaccard_metric_4: 0.9634 - val_loss: 0.0215 - val_accuracy: 0.9911 - val_my_jaccard_metric_4: 0.9640\n",
            "Epoch 15/50\n",
            "469/469 [==============================] - 10s 22ms/step - loss: 0.0211 - accuracy: 0.9912 - my_jaccard_metric_4: 0.9639 - val_loss: 0.0212 - val_accuracy: 0.9912 - val_my_jaccard_metric_4: 0.9646\n",
            "Epoch 16/50\n",
            "469/469 [==============================] - 10s 22ms/step - loss: 0.0208 - accuracy: 0.9913 - my_jaccard_metric_4: 0.9645 - val_loss: 0.0233 - val_accuracy: 0.9904 - val_my_jaccard_metric_4: 0.9606\n",
            "Epoch 17/50\n",
            "469/469 [==============================] - 10s 22ms/step - loss: 0.0204 - accuracy: 0.9915 - my_jaccard_metric_4: 0.9652 - val_loss: 0.0211 - val_accuracy: 0.9912 - val_my_jaccard_metric_4: 0.9646\n",
            "Epoch 18/50\n",
            "469/469 [==============================] - 10s 22ms/step - loss: 0.0202 - accuracy: 0.9916 - my_jaccard_metric_4: 0.9657 - val_loss: 0.0198 - val_accuracy: 0.9919 - val_my_jaccard_metric_4: 0.9669\n",
            "Epoch 19/50\n",
            "469/469 [==============================] - 10s 22ms/step - loss: 0.0199 - accuracy: 0.9917 - my_jaccard_metric_4: 0.9661 - val_loss: 0.0199 - val_accuracy: 0.9918 - val_my_jaccard_metric_4: 0.9666\n",
            "Epoch 20/50\n",
            "469/469 [==============================] - 10s 22ms/step - loss: 0.0196 - accuracy: 0.9918 - my_jaccard_metric_4: 0.9666 - val_loss: 0.0202 - val_accuracy: 0.9916 - val_my_jaccard_metric_4: 0.9659\n",
            "Epoch 21/50\n",
            "469/469 [==============================] - 10s 22ms/step - loss: 0.0193 - accuracy: 0.9920 - my_jaccard_metric_4: 0.9671 - val_loss: 0.0192 - val_accuracy: 0.9921 - val_my_jaccard_metric_4: 0.9677\n",
            "Epoch 22/50\n",
            "469/469 [==============================] - 10s 22ms/step - loss: 0.0191 - accuracy: 0.9921 - my_jaccard_metric_4: 0.9675 - val_loss: 0.0188 - val_accuracy: 0.9922 - val_my_jaccard_metric_4: 0.9685\n",
            "Epoch 23/50\n",
            "469/469 [==============================] - 10s 22ms/step - loss: 0.0188 - accuracy: 0.9922 - my_jaccard_metric_4: 0.9679 - val_loss: 0.0190 - val_accuracy: 0.9922 - val_my_jaccard_metric_4: 0.9680\n",
            "Epoch 24/50\n",
            "469/469 [==============================] - 10s 22ms/step - loss: 0.0187 - accuracy: 0.9922 - my_jaccard_metric_4: 0.9682 - val_loss: 0.0187 - val_accuracy: 0.9923 - val_my_jaccard_metric_4: 0.9685\n",
            "Epoch 25/50\n",
            "469/469 [==============================] - 10s 22ms/step - loss: 0.0185 - accuracy: 0.9923 - my_jaccard_metric_4: 0.9685 - val_loss: 0.0185 - val_accuracy: 0.9923 - val_my_jaccard_metric_4: 0.9689\n",
            "Epoch 26/50\n",
            "469/469 [==============================] - 10s 22ms/step - loss: 0.0183 - accuracy: 0.9924 - my_jaccard_metric_4: 0.9689 - val_loss: 0.0187 - val_accuracy: 0.9922 - val_my_jaccard_metric_4: 0.9687\n",
            "Epoch 27/50\n",
            "469/469 [==============================] - 10s 22ms/step - loss: 0.0181 - accuracy: 0.9925 - my_jaccard_metric_4: 0.9692 - val_loss: 0.0181 - val_accuracy: 0.9925 - val_my_jaccard_metric_4: 0.9696\n",
            "Epoch 28/50\n",
            "469/469 [==============================] - 10s 22ms/step - loss: 0.0178 - accuracy: 0.9926 - my_jaccard_metric_4: 0.9696 - val_loss: 0.0183 - val_accuracy: 0.9924 - val_my_jaccard_metric_4: 0.9694\n",
            "Epoch 29/50\n",
            "469/469 [==============================] - 10s 22ms/step - loss: 0.0177 - accuracy: 0.9926 - my_jaccard_metric_4: 0.9698 - val_loss: 0.0177 - val_accuracy: 0.9927 - val_my_jaccard_metric_4: 0.9704\n",
            "Epoch 30/50\n",
            "469/469 [==============================] - 10s 22ms/step - loss: 0.0176 - accuracy: 0.9927 - my_jaccard_metric_4: 0.9700 - val_loss: 0.0178 - val_accuracy: 0.9926 - val_my_jaccard_metric_4: 0.9699\n",
            "Epoch 31/50\n",
            "469/469 [==============================] - 10s 22ms/step - loss: 0.0175 - accuracy: 0.9927 - my_jaccard_metric_4: 0.9701 - val_loss: 0.0174 - val_accuracy: 0.9928 - val_my_jaccard_metric_4: 0.9708\n",
            "Epoch 32/50\n",
            "469/469 [==============================] - 10s 22ms/step - loss: 0.0173 - accuracy: 0.9928 - my_jaccard_metric_4: 0.9706 - val_loss: 0.0179 - val_accuracy: 0.9926 - val_my_jaccard_metric_4: 0.9698\n",
            "Epoch 33/50\n",
            "469/469 [==============================] - 10s 22ms/step - loss: 0.0171 - accuracy: 0.9929 - my_jaccard_metric_4: 0.9708 - val_loss: 0.0172 - val_accuracy: 0.9929 - val_my_jaccard_metric_4: 0.9713\n",
            "Epoch 34/50\n",
            "469/469 [==============================] - 10s 22ms/step - loss: 0.0170 - accuracy: 0.9930 - my_jaccard_metric_4: 0.9711 - val_loss: 0.0174 - val_accuracy: 0.9928 - val_my_jaccard_metric_4: 0.9707\n",
            "Epoch 35/50\n",
            "469/469 [==============================] - 10s 22ms/step - loss: 0.0170 - accuracy: 0.9929 - my_jaccard_metric_4: 0.9710 - val_loss: 0.0168 - val_accuracy: 0.9931 - val_my_jaccard_metric_4: 0.9718\n",
            "Epoch 36/50\n",
            "469/469 [==============================] - 10s 22ms/step - loss: 0.0167 - accuracy: 0.9931 - my_jaccard_metric_4: 0.9715 - val_loss: 0.0169 - val_accuracy: 0.9930 - val_my_jaccard_metric_4: 0.9715\n",
            "Epoch 37/50\n",
            "469/469 [==============================] - 10s 22ms/step - loss: 0.0166 - accuracy: 0.9931 - my_jaccard_metric_4: 0.9717 - val_loss: 0.0177 - val_accuracy: 0.9927 - val_my_jaccard_metric_4: 0.9701\n",
            "Epoch 38/50\n",
            "469/469 [==============================] - 10s 22ms/step - loss: 0.0165 - accuracy: 0.9931 - my_jaccard_metric_4: 0.9718 - val_loss: 0.0168 - val_accuracy: 0.9931 - val_my_jaccard_metric_4: 0.9718\n",
            "Epoch 39/50\n",
            "469/469 [==============================] - 10s 22ms/step - loss: 0.0164 - accuracy: 0.9932 - my_jaccard_metric_4: 0.9722 - val_loss: 0.0167 - val_accuracy: 0.9931 - val_my_jaccard_metric_4: 0.9720\n",
            "Epoch 40/50\n",
            "469/469 [==============================] - 10s 22ms/step - loss: 0.0163 - accuracy: 0.9932 - my_jaccard_metric_4: 0.9722 - val_loss: 0.0171 - val_accuracy: 0.9929 - val_my_jaccard_metric_4: 0.9714\n",
            "Epoch 41/50\n",
            "469/469 [==============================] - 10s 22ms/step - loss: 0.0163 - accuracy: 0.9933 - my_jaccard_metric_4: 0.9723 - val_loss: 0.0171 - val_accuracy: 0.9929 - val_my_jaccard_metric_4: 0.9716\n",
            "Epoch 42/50\n",
            "469/469 [==============================] - 10s 22ms/step - loss: 0.0161 - accuracy: 0.9933 - my_jaccard_metric_4: 0.9726 - val_loss: 0.0164 - val_accuracy: 0.9932 - val_my_jaccard_metric_4: 0.9726\n",
            "Epoch 43/50\n",
            "469/469 [==============================] - 10s 22ms/step - loss: 0.0160 - accuracy: 0.9934 - my_jaccard_metric_4: 0.9728 - val_loss: 0.0180 - val_accuracy: 0.9925 - val_my_jaccard_metric_4: 0.9700\n",
            "Epoch 44/50\n",
            "469/469 [==============================] - 10s 22ms/step - loss: 0.0159 - accuracy: 0.9934 - my_jaccard_metric_4: 0.9729 - val_loss: 0.0165 - val_accuracy: 0.9932 - val_my_jaccard_metric_4: 0.9723\n",
            "Epoch 45/50\n",
            "469/469 [==============================] - 10s 22ms/step - loss: 0.0158 - accuracy: 0.9935 - my_jaccard_metric_4: 0.9731 - val_loss: 0.0160 - val_accuracy: 0.9934 - val_my_jaccard_metric_4: 0.9731\n",
            "Epoch 46/50\n",
            "469/469 [==============================] - 10s 22ms/step - loss: 0.0158 - accuracy: 0.9935 - my_jaccard_metric_4: 0.9732 - val_loss: 0.0158 - val_accuracy: 0.9935 - val_my_jaccard_metric_4: 0.9734\n",
            "Epoch 47/50\n",
            "469/469 [==============================] - 10s 22ms/step - loss: 0.0156 - accuracy: 0.9936 - my_jaccard_metric_4: 0.9735 - val_loss: 0.0160 - val_accuracy: 0.9934 - val_my_jaccard_metric_4: 0.9733\n",
            "Epoch 48/50\n",
            "469/469 [==============================] - 10s 22ms/step - loss: 0.0156 - accuracy: 0.9935 - my_jaccard_metric_4: 0.9735 - val_loss: 0.0166 - val_accuracy: 0.9932 - val_my_jaccard_metric_4: 0.9724\n",
            "Epoch 49/50\n",
            "469/469 [==============================] - 10s 22ms/step - loss: 0.0154 - accuracy: 0.9936 - my_jaccard_metric_4: 0.9737 - val_loss: 0.0155 - val_accuracy: 0.9936 - val_my_jaccard_metric_4: 0.9741\n",
            "Epoch 50/50\n",
            "469/469 [==============================] - 10s 22ms/step - loss: 0.0154 - accuracy: 0.9936 - my_jaccard_metric_4: 0.9738 - val_loss: 0.0155 - val_accuracy: 0.9936 - val_my_jaccard_metric_4: 0.9741\n"
          ],
          "name": "stdout"
        }
      ]
    },
    {
      "cell_type": "code",
      "metadata": {
        "colab": {
          "base_uri": "https://localhost:8080/"
        },
        "id": "8-1hHr_edTZk",
        "outputId": "1060f7aa-4e8b-485d-b126-9097496d2f00"
      },
      "source": [
        "loss_Q2,Accuracy_Q2,Jaccard_Q2 = model_Q2.evaluate(x = x_test.reshape((-1, 28, 28, 1))/255,y = y_test_mask)\n",
        "\n",
        "print('\\nloss_Q2     = %.3f' % loss_Q2)\n",
        "print('Accuracy_Q2 = %.3f%%' % (Accuracy_Q2*100))\n",
        "print('Jaccard_Q2  = %.3f' % Jaccard_Q2)\n",
        "\n",
        "model_Q2.save('/content/drive/MyDrive/CV-HW-images/CV_A3/Foreground_Extraction')"
      ],
      "execution_count": 33,
      "outputs": [
        {
          "output_type": "stream",
          "text": [
            "313/313 [==============================] - 2s 7ms/step - loss: 0.0155 - accuracy: 0.9936 - my_jaccard_metric_4: 0.9741\n",
            "\n",
            "loss_Q2     = 0.015\n",
            "Accuracy_Q2 = 99.364%\n",
            "Jaccard_Q2  = 0.974\n",
            "INFO:tensorflow:Assets written to: /content/drive/MyDrive/CV-HW-images/CV_A3/Foreground_Extraction/assets\n"
          ],
          "name": "stdout"
        }
      ]
    },
    {
      "cell_type": "markdown",
      "metadata": {
        "id": "AXiLndFSQlK7"
      },
      "source": [
        "## Traning a DL network from scratch for performing classification with circlization on the new dataset obtained in Part : 2 and reporting the test performance using Jaccard Similarity on the circles."
      ]
    },
    {
      "cell_type": "code",
      "metadata": {
        "colab": {
          "base_uri": "https://localhost:8080/",
          "height": 1000
        },
        "id": "Z65dQsdBQnqy",
        "outputId": "83b07efd-8b51-402e-a799-a4f7cdf967d5"
      },
      "source": [
        "def get_model_3():\n",
        "  input = keras.Input(shape = (28,28,1)) \n",
        "  x = layers.Conv2D(16,kernel_size=(3,3),strides=(1,1),input_shape = (28,28,1),activation='relu')(input)\n",
        "  x = layer_2 = layers.MaxPool2D()(x)\n",
        "  x = layers.Conv2D(32,kernel_size=(3,3),strides=(1,1),activation='relu')(x)\n",
        "  x = layers.MaxPool2D()(x)\n",
        "  x = layers.Conv2D(64,kernel_size=(3,3),strides=(1,1),activation='relu')(x)\n",
        "  x = layers.Flatten()(x)\n",
        "\n",
        "  x1 = layers.Dense(128)(x)\n",
        "  x1 = layers.Dense(64,activation='relu')(x1)\n",
        "  x1 = layers.Dense(32,activation='relu')(x1)\n",
        "  x1 = layers.Dense(16,activation='relu')(x1)\n",
        "  x1 = layers.Dense(10,activation='relu')(x1)\n",
        "  y_pred1 = layers.Softmax(name = 'ClassLabel')(x1)\n",
        "\n",
        "  x2 = layers.Dense(128,activation='relu')(x)\n",
        "  x2 = layers.Dense(64,activation='relu')(x2)\n",
        "  x2 = layers.Dense(32,activation='relu')(x2)\n",
        "  x2 = layers.Dense(16,activation='relu')(x2)\n",
        "  y_pred2 = layers.Dense(3,name = 'Circlization')(x2)\n",
        "\n",
        "  model = keras.Model(inputs = input,outputs = [y_pred1,y_pred2],name = 'Q3_model')\n",
        "\n",
        "  model.compile(\n",
        "      optimizer = 'adam',\n",
        "      loss = {\n",
        "          'ClassLabel' : keras.losses.sparse_categorical_crossentropy,\n",
        "          'Circlization':  keras.losses.MSE\n",
        "      },\n",
        "      loss_weights = [1.0,1.0],\n",
        "      metrics = {\n",
        "          'ClassLabel' : ['accuracy']\n",
        "      }\n",
        "  )\n",
        "\n",
        "  return model\n",
        "\n",
        "model_Q3 = get_model_3()\n",
        "model_Q3.summary()\n",
        "keras.utils.plot_model(model_Q3,show_shapes=True)"
      ],
      "execution_count": 19,
      "outputs": [
        {
          "output_type": "stream",
          "text": [
            "Model: \"Q3_model\"\n",
            "__________________________________________________________________________________________________\n",
            "Layer (type)                    Output Shape         Param #     Connected to                     \n",
            "==================================================================================================\n",
            "input_3 (InputLayer)            [(None, 28, 28, 1)]  0                                            \n",
            "__________________________________________________________________________________________________\n",
            "conv2d_18 (Conv2D)              (None, 26, 26, 16)   160         input_3[0][0]                    \n",
            "__________________________________________________________________________________________________\n",
            "max_pooling2d_8 (MaxPooling2D)  (None, 13, 13, 16)   0           conv2d_18[0][0]                  \n",
            "__________________________________________________________________________________________________\n",
            "conv2d_19 (Conv2D)              (None, 11, 11, 32)   4640        max_pooling2d_8[0][0]            \n",
            "__________________________________________________________________________________________________\n",
            "max_pooling2d_9 (MaxPooling2D)  (None, 5, 5, 32)     0           conv2d_19[0][0]                  \n",
            "__________________________________________________________________________________________________\n",
            "conv2d_20 (Conv2D)              (None, 3, 3, 64)     18496       max_pooling2d_9[0][0]            \n",
            "__________________________________________________________________________________________________\n",
            "flatten_2 (Flatten)             (None, 576)          0           conv2d_20[0][0]                  \n",
            "__________________________________________________________________________________________________\n",
            "dense_18 (Dense)                (None, 128)          73856       flatten_2[0][0]                  \n",
            "__________________________________________________________________________________________________\n",
            "dense_19 (Dense)                (None, 64)           8256        dense_18[0][0]                   \n",
            "__________________________________________________________________________________________________\n",
            "dense_23 (Dense)                (None, 128)          73856       flatten_2[0][0]                  \n",
            "__________________________________________________________________________________________________\n",
            "dense_20 (Dense)                (None, 32)           2080        dense_19[0][0]                   \n",
            "__________________________________________________________________________________________________\n",
            "dense_24 (Dense)                (None, 64)           8256        dense_23[0][0]                   \n",
            "__________________________________________________________________________________________________\n",
            "dense_21 (Dense)                (None, 16)           528         dense_20[0][0]                   \n",
            "__________________________________________________________________________________________________\n",
            "dense_25 (Dense)                (None, 32)           2080        dense_24[0][0]                   \n",
            "__________________________________________________________________________________________________\n",
            "dense_22 (Dense)                (None, 10)           170         dense_21[0][0]                   \n",
            "__________________________________________________________________________________________________\n",
            "dense_26 (Dense)                (None, 16)           528         dense_25[0][0]                   \n",
            "__________________________________________________________________________________________________\n",
            "ClassLabel (Softmax)            (None, 10)           0           dense_22[0][0]                   \n",
            "__________________________________________________________________________________________________\n",
            "Circlization (Dense)            (None, 3)            51          dense_26[0][0]                   \n",
            "==================================================================================================\n",
            "Total params: 192,957\n",
            "Trainable params: 192,957\n",
            "Non-trainable params: 0\n",
            "__________________________________________________________________________________________________\n"
          ],
          "name": "stdout"
        },
        {
          "output_type": "execute_result",
          "data": {
            "image/png": "[encoded data removed]",
            "text/plain": [
              "<IPython.core.display.Image object>"
            ]
          },
          "metadata": {
            "tags": []
          },
          "execution_count": 19
        }
      ]
    },
    {
      "cell_type": "code",
      "metadata": {
        "colab": {
          "base_uri": "https://localhost:8080/"
        },
        "id": "DpISPBtDdBeb",
        "outputId": "79e2929d-bc93-4fb3-e024-daf714957ac0"
      },
      "source": [
        "model_Q3.fit( x = x_train.reshape((-1, 28, 28, 1))/255,\n",
        "              y = [y_train,\n",
        "                   y_train_circalization],\n",
        "              batch_size = 60,\n",
        "              epochs = 30)"
      ],
      "execution_count": 20,
      "outputs": [
        {
          "output_type": "stream",
          "text": [
            "Epoch 1/30\n",
            "1000/1000 [==============================] - 8s 7ms/step - loss: 5.4403 - ClassLabel_loss: 0.8445 - Circlization_loss: 4.5959 - ClassLabel_accuracy: 0.7103\n",
            "Epoch 2/30\n",
            "1000/1000 [==============================] - 7s 7ms/step - loss: 2.0504 - ClassLabel_loss: 0.2217 - Circlization_loss: 1.8287 - ClassLabel_accuracy: 0.9306\n",
            "Epoch 3/30\n",
            "1000/1000 [==============================] - 7s 7ms/step - loss: 1.8644 - ClassLabel_loss: 0.1280 - Circlization_loss: 1.7364 - ClassLabel_accuracy: 0.9603\n",
            "Epoch 4/30\n",
            "1000/1000 [==============================] - 7s 7ms/step - loss: 1.7818 - ClassLabel_loss: 0.0992 - Circlization_loss: 1.6825 - ClassLabel_accuracy: 0.9685\n",
            "Epoch 5/30\n",
            "1000/1000 [==============================] - 7s 7ms/step - loss: 1.7307 - ClassLabel_loss: 0.0778 - Circlization_loss: 1.6529 - ClassLabel_accuracy: 0.9758\n",
            "Epoch 6/30\n",
            "1000/1000 [==============================] - 7s 7ms/step - loss: 1.6830 - ClassLabel_loss: 0.0666 - Circlization_loss: 1.6165 - ClassLabel_accuracy: 0.9790\n",
            "Epoch 7/30\n",
            "1000/1000 [==============================] - 7s 7ms/step - loss: 1.6382 - ClassLabel_loss: 0.0613 - Circlization_loss: 1.5768 - ClassLabel_accuracy: 0.9803\n",
            "Epoch 8/30\n",
            "1000/1000 [==============================] - 7s 7ms/step - loss: 1.5872 - ClassLabel_loss: 0.0532 - Circlization_loss: 1.5340 - ClassLabel_accuracy: 0.9833\n",
            "Epoch 9/30\n",
            "1000/1000 [==============================] - 7s 7ms/step - loss: 1.5310 - ClassLabel_loss: 0.0516 - Circlization_loss: 1.4794 - ClassLabel_accuracy: 0.9837\n",
            "Epoch 10/30\n",
            "1000/1000 [==============================] - 7s 7ms/step - loss: 1.4442 - ClassLabel_loss: 0.0443 - Circlization_loss: 1.3999 - ClassLabel_accuracy: 0.9857\n",
            "Epoch 11/30\n",
            "1000/1000 [==============================] - 7s 7ms/step - loss: 1.3941 - ClassLabel_loss: 0.0421 - Circlization_loss: 1.3520 - ClassLabel_accuracy: 0.9870\n",
            "Epoch 12/30\n",
            "1000/1000 [==============================] - 7s 7ms/step - loss: 1.3567 - ClassLabel_loss: 0.0392 - Circlization_loss: 1.3175 - ClassLabel_accuracy: 0.9877\n",
            "Epoch 13/30\n",
            "1000/1000 [==============================] - 7s 7ms/step - loss: 1.3167 - ClassLabel_loss: 0.0353 - Circlization_loss: 1.2814 - ClassLabel_accuracy: 0.9885\n",
            "Epoch 14/30\n",
            "1000/1000 [==============================] - 7s 7ms/step - loss: 1.2906 - ClassLabel_loss: 0.0335 - Circlization_loss: 1.2571 - ClassLabel_accuracy: 0.9892\n",
            "Epoch 15/30\n",
            "1000/1000 [==============================] - 7s 7ms/step - loss: 1.2569 - ClassLabel_loss: 0.0294 - Circlization_loss: 1.2275 - ClassLabel_accuracy: 0.9907\n",
            "Epoch 16/30\n",
            "1000/1000 [==============================] - 7s 7ms/step - loss: 1.2398 - ClassLabel_loss: 0.0287 - Circlization_loss: 1.2111 - ClassLabel_accuracy: 0.9908\n",
            "Epoch 17/30\n",
            "1000/1000 [==============================] - 7s 7ms/step - loss: 1.2137 - ClassLabel_loss: 0.0256 - Circlization_loss: 1.1881 - ClassLabel_accuracy: 0.9920\n",
            "Epoch 18/30\n",
            "1000/1000 [==============================] - 7s 7ms/step - loss: 1.1904 - ClassLabel_loss: 0.0246 - Circlization_loss: 1.1658 - ClassLabel_accuracy: 0.9919\n",
            "Epoch 19/30\n",
            "1000/1000 [==============================] - 7s 7ms/step - loss: 1.1726 - ClassLabel_loss: 0.0229 - Circlization_loss: 1.1497 - ClassLabel_accuracy: 0.9928\n",
            "Epoch 20/30\n",
            "1000/1000 [==============================] - 7s 7ms/step - loss: 1.1587 - ClassLabel_loss: 0.0234 - Circlization_loss: 1.1353 - ClassLabel_accuracy: 0.9923\n",
            "Epoch 21/30\n",
            "1000/1000 [==============================] - 7s 7ms/step - loss: 1.1410 - ClassLabel_loss: 0.0219 - Circlization_loss: 1.1191 - ClassLabel_accuracy: 0.9930\n",
            "Epoch 22/30\n",
            "1000/1000 [==============================] - 7s 7ms/step - loss: 1.1215 - ClassLabel_loss: 0.0199 - Circlization_loss: 1.1016 - ClassLabel_accuracy: 0.9934\n",
            "Epoch 23/30\n",
            "1000/1000 [==============================] - 7s 7ms/step - loss: 1.1098 - ClassLabel_loss: 0.0192 - Circlization_loss: 1.0907 - ClassLabel_accuracy: 0.9937\n",
            "Epoch 24/30\n",
            "1000/1000 [==============================] - 7s 7ms/step - loss: 1.0952 - ClassLabel_loss: 0.0176 - Circlization_loss: 1.0776 - ClassLabel_accuracy: 0.9942\n",
            "Epoch 25/30\n",
            "1000/1000 [==============================] - 7s 7ms/step - loss: 1.0921 - ClassLabel_loss: 0.0177 - Circlization_loss: 1.0744 - ClassLabel_accuracy: 0.9937\n",
            "Epoch 26/30\n",
            "1000/1000 [==============================] - 7s 7ms/step - loss: 1.0734 - ClassLabel_loss: 0.0154 - Circlization_loss: 1.0580 - ClassLabel_accuracy: 0.9949\n",
            "Epoch 27/30\n",
            "1000/1000 [==============================] - 7s 7ms/step - loss: 1.0651 - ClassLabel_loss: 0.0172 - Circlization_loss: 1.0479 - ClassLabel_accuracy: 0.9944\n",
            "Epoch 28/30\n",
            "1000/1000 [==============================] - 7s 7ms/step - loss: 1.0537 - ClassLabel_loss: 0.0154 - Circlization_loss: 1.0383 - ClassLabel_accuracy: 0.9952\n",
            "Epoch 29/30\n",
            "1000/1000 [==============================] - 7s 7ms/step - loss: 1.0498 - ClassLabel_loss: 0.0150 - Circlization_loss: 1.0349 - ClassLabel_accuracy: 0.9951\n",
            "Epoch 30/30\n",
            "1000/1000 [==============================] - 7s 7ms/step - loss: 1.0312 - ClassLabel_loss: 0.0129 - Circlization_loss: 1.0184 - ClassLabel_accuracy: 0.9956\n"
          ],
          "name": "stdout"
        },
        {
          "output_type": "execute_result",
          "data": {
            "text/plain": [
              "<tensorflow.python.keras.callbacks.History at 0x7f5b1c010350>"
            ]
          },
          "metadata": {
            "tags": []
          },
          "execution_count": 20
        }
      ]
    },
    {
      "cell_type": "code",
      "metadata": {
        "colab": {
          "base_uri": "https://localhost:8080/"
        },
        "id": "wVHxdrJ9ktgU",
        "outputId": "6475f087-aa8d-4948-a05d-e52bbef90277"
      },
      "source": [
        "temp = model_Q3.evaluate(x = x_test.reshape((-1, 28, 28, 1))/255,\n",
        "                         y = [y_test,\n",
        "                              y_test_circalization])\n",
        "\n",
        "y_pred_labels,y_pred_circles = model_Q3.predict(x_test.reshape((-1, 28, 28, 1))/255)\n",
        "\n",
        "y_pred_labels = np.argmax(y_pred_labels,axis = 1)\n",
        "\n",
        "Similarity = []\n",
        "\n",
        "def dist(x1,y1,x2,y2):\n",
        "  return (((x1-x2)**2) + ((y1-y2)**2))**0.5\n",
        "\n",
        "for i in range(len(y_pred_labels)):\n",
        "\n",
        "  if y_pred_labels[i]!=y_test[i]:\n",
        "    Similarity.append(0)\n",
        "  else:\n",
        "    pred_center = y_pred_circles[i,1:]\n",
        "    pred_radius = y_pred_circles[i,0]\n",
        "\n",
        "    actual_center = y_test_circalization[i,1:]\n",
        "    actual_radius = y_test_circalization[i,0]\n",
        "\n",
        "    union = 0\n",
        "    intersection = 0\n",
        "\n",
        "    for i in range(28):\n",
        "      for j in range(28):\n",
        "        t = 0\n",
        "        if dist(i,j,pred_center[0],pred_center[1]) <= pred_radius: t+=1\n",
        "        if dist(i,j,actual_center[0],actual_center[1]) <= actual_radius: t+=1\n",
        "\n",
        "        if t>=1: union+=1\n",
        "        if t==2: intersection+=1\n",
        "    \n",
        "    if intersection>0: jd = intersection/union\n",
        "    Similarity.append(jd)\n",
        "\n",
        "\n",
        "print('Jaccard Similarity :',np.mean(np.array(Similarity)))\n",
        "\n",
        "model_Q3.save('/content/drive/MyDrive/CV-HW-images/CV_A3/Circlization')"
      ],
      "execution_count": 21,
      "outputs": [
        {
          "output_type": "stream",
          "text": [
            "313/313 [==============================] - 2s 4ms/step - loss: 1.2322 - ClassLabel_loss: 0.0631 - Circlization_loss: 1.1690 - ClassLabel_accuracy: 0.9854\n",
            "Jaccard Similarity : 0.8448983859294616\n",
            "INFO:tensorflow:Assets written to: /content/drive/MyDrive/CV-HW-images/CV_A3/Circlization/assets\n"
          ],
          "name": "stdout"
        }
      ]
    },
    {
      "cell_type": "markdown",
      "metadata": {
        "id": "Gt6MtCad20MW"
      },
      "source": [
        "## Traning a DL network from scratch for performing image segmentation into 11 labels [ 1 background + 10 numbers ] and reporting testing results using jaccard similarity "
      ]
    },
    {
      "cell_type": "code",
      "metadata": {
        "colab": {
          "base_uri": "https://localhost:8080/"
        },
        "id": "u-mSm-WrQMOP",
        "outputId": "ee84d8f6-96fc-40c3-d58d-dc4bc052275d"
      },
      "source": [
        "model_Q4 = models.Sequential([\n",
        "      layers.Conv2D(16,kernel_size=(3,3),strides=(1,1),input_shape = (56,56,1),activation='relu',padding='same'),\n",
        "      layers.MaxPool2D(),\n",
        "      layers.Conv2D(32,kernel_size=(3,3),strides=(1,1),activation='relu',padding='same'),\n",
        "      layers.MaxPool2D(),\n",
        "      layers.Conv2D(64,kernel_size=(3,3),strides=(1,1),activation='relu',padding='same'),\n",
        "      layers.Conv2D(32,kernel_size=(3,3),strides=(1,1),activation='relu',padding='same'),\n",
        "      layers.Conv2DTranspose(32,(2,2),(2,2),activation='relu'),\n",
        "      layers.Conv2D(16,kernel_size=(3,3),strides=(1,1),activation='relu',padding='same'),\n",
        "      layers.Conv2DTranspose(16,(2,2),(2,2),activation='relu'),\n",
        "      layers.Conv2D(11,kernel_size=(3,3),strides=(1,1),padding='same'),\n",
        "      layers.Softmax(axis=3)\n",
        "])\n",
        "\n",
        "model_Q4.compile(optimizer='adam',\n",
        "              loss = tf.keras.losses.sparse_categorical_crossentropy,\n",
        "              metrics  = ['accuracy',MyJaccardMetric(num_classes=11)],)\n",
        "\n",
        "model_Q4.summary()"
      ],
      "execution_count": 23,
      "outputs": [
        {
          "output_type": "stream",
          "text": [
            "Model: \"sequential_3\"\n",
            "_________________________________________________________________\n",
            "Layer (type)                 Output Shape              Param #   \n",
            "=================================================================\n",
            "conv2d_27 (Conv2D)           (None, 56, 56, 16)        160       \n",
            "_________________________________________________________________\n",
            "max_pooling2d_12 (MaxPooling (None, 28, 28, 16)        0         \n",
            "_________________________________________________________________\n",
            "conv2d_28 (Conv2D)           (None, 28, 28, 32)        4640      \n",
            "_________________________________________________________________\n",
            "max_pooling2d_13 (MaxPooling (None, 14, 14, 32)        0         \n",
            "_________________________________________________________________\n",
            "conv2d_29 (Conv2D)           (None, 14, 14, 64)        18496     \n",
            "_________________________________________________________________\n",
            "conv2d_30 (Conv2D)           (None, 14, 14, 32)        18464     \n",
            "_________________________________________________________________\n",
            "conv2d_transpose_6 (Conv2DTr (None, 28, 28, 32)        4128      \n",
            "_________________________________________________________________\n",
            "conv2d_31 (Conv2D)           (None, 28, 28, 16)        4624      \n",
            "_________________________________________________________________\n",
            "conv2d_transpose_7 (Conv2DTr (None, 56, 56, 16)        1040      \n",
            "_________________________________________________________________\n",
            "conv2d_32 (Conv2D)           (None, 56, 56, 11)        1595      \n",
            "_________________________________________________________________\n",
            "softmax_3 (Softmax)          (None, 56, 56, 11)        0         \n",
            "=================================================================\n",
            "Total params: 53,147\n",
            "Trainable params: 53,147\n",
            "Non-trainable params: 0\n",
            "_________________________________________________________________\n"
          ],
          "name": "stdout"
        }
      ]
    },
    {
      "cell_type": "code",
      "metadata": {
        "colab": {
          "base_uri": "https://localhost:8080/"
        },
        "id": "V4tftT0nFY2Y",
        "outputId": "d105f907-048d-438f-cb6e-e6339956e275"
      },
      "source": [
        "history_Q4 = model_Q4.fit(x = large_x_train.reshape((-1, 56, 56, 1))/255,\n",
        "                    y = large_y_train,\n",
        "                    batch_size = 60,\n",
        "                    epochs = 30)"
      ],
      "execution_count": 24,
      "outputs": [
        {
          "output_type": "stream",
          "text": [
            "Epoch 1/30\n",
            "250/250 [==============================] - 9s 29ms/step - loss: 0.6326 - accuracy: 0.8559 - my_jaccard_metric_3: 0.0899\n",
            "Epoch 2/30\n",
            "250/250 [==============================] - 7s 28ms/step - loss: 0.3410 - accuracy: 0.8835 - my_jaccard_metric_3: 0.1954\n",
            "Epoch 3/30\n",
            "250/250 [==============================] - 7s 28ms/step - loss: 0.2680 - accuracy: 0.9062 - my_jaccard_metric_3: 0.3177\n",
            "Epoch 4/30\n",
            "250/250 [==============================] - 7s 28ms/step - loss: 0.2072 - accuracy: 0.9280 - my_jaccard_metric_3: 0.4490\n",
            "Epoch 5/30\n",
            "250/250 [==============================] - 7s 28ms/step - loss: 0.1570 - accuracy: 0.9461 - my_jaccard_metric_3: 0.5729\n",
            "Epoch 6/30\n",
            "250/250 [==============================] - 7s 28ms/step - loss: 0.1305 - accuracy: 0.9550 - my_jaccard_metric_3: 0.6416\n",
            "Epoch 7/30\n",
            "250/250 [==============================] - 7s 28ms/step - loss: 0.1138 - accuracy: 0.9607 - my_jaccard_metric_3: 0.6871\n",
            "Epoch 8/30\n",
            "250/250 [==============================] - 7s 28ms/step - loss: 0.1018 - accuracy: 0.9647 - my_jaccard_metric_3: 0.7200\n",
            "Epoch 9/30\n",
            "250/250 [==============================] - 7s 29ms/step - loss: 0.0920 - accuracy: 0.9678 - my_jaccard_metric_3: 0.7464\n",
            "Epoch 10/30\n",
            "250/250 [==============================] - 7s 29ms/step - loss: 0.0854 - accuracy: 0.9699 - my_jaccard_metric_3: 0.7641\n",
            "Epoch 11/30\n",
            "250/250 [==============================] - 7s 28ms/step - loss: 0.0803 - accuracy: 0.9716 - my_jaccard_metric_3: 0.7781\n",
            "Epoch 12/30\n",
            "250/250 [==============================] - 7s 28ms/step - loss: 0.0757 - accuracy: 0.9730 - my_jaccard_metric_3: 0.7907\n",
            "Epoch 13/30\n",
            "250/250 [==============================] - 7s 29ms/step - loss: 0.0723 - accuracy: 0.9741 - my_jaccard_metric_3: 0.7996\n",
            "Epoch 14/30\n",
            "250/250 [==============================] - 7s 29ms/step - loss: 0.0698 - accuracy: 0.9748 - my_jaccard_metric_3: 0.8060\n",
            "Epoch 15/30\n",
            "250/250 [==============================] - 7s 29ms/step - loss: 0.0671 - accuracy: 0.9758 - my_jaccard_metric_3: 0.8135\n",
            "Epoch 16/30\n",
            "250/250 [==============================] - 7s 29ms/step - loss: 0.0647 - accuracy: 0.9765 - my_jaccard_metric_3: 0.8197\n",
            "Epoch 17/30\n",
            "250/250 [==============================] - 7s 29ms/step - loss: 0.0630 - accuracy: 0.9770 - my_jaccard_metric_3: 0.8239\n",
            "Epoch 18/30\n",
            "250/250 [==============================] - 7s 28ms/step - loss: 0.0612 - accuracy: 0.9776 - my_jaccard_metric_3: 0.8286\n",
            "Epoch 19/30\n",
            "250/250 [==============================] - 7s 29ms/step - loss: 0.0593 - accuracy: 0.9782 - my_jaccard_metric_3: 0.8337\n",
            "Epoch 20/30\n",
            "250/250 [==============================] - 7s 29ms/step - loss: 0.0581 - accuracy: 0.9785 - my_jaccard_metric_3: 0.8369\n",
            "Epoch 21/30\n",
            "250/250 [==============================] - 7s 29ms/step - loss: 0.0567 - accuracy: 0.9790 - my_jaccard_metric_3: 0.8407\n",
            "Epoch 22/30\n",
            "250/250 [==============================] - 7s 29ms/step - loss: 0.0559 - accuracy: 0.9793 - my_jaccard_metric_3: 0.8426\n",
            "Epoch 23/30\n",
            "250/250 [==============================] - 7s 29ms/step - loss: 0.0548 - accuracy: 0.9797 - my_jaccard_metric_3: 0.8459\n",
            "Epoch 24/30\n",
            "250/250 [==============================] - 7s 29ms/step - loss: 0.0532 - accuracy: 0.9801 - my_jaccard_metric_3: 0.8496\n",
            "Epoch 25/30\n",
            "250/250 [==============================] - 7s 29ms/step - loss: 0.0532 - accuracy: 0.9801 - my_jaccard_metric_3: 0.8494\n",
            "Epoch 26/30\n",
            "250/250 [==============================] - 7s 29ms/step - loss: 0.0520 - accuracy: 0.9805 - my_jaccard_metric_3: 0.8533\n",
            "Epoch 27/30\n",
            "250/250 [==============================] - 7s 29ms/step - loss: 0.0506 - accuracy: 0.9810 - my_jaccard_metric_3: 0.8572\n",
            "Epoch 28/30\n",
            "250/250 [==============================] - 7s 28ms/step - loss: 0.0500 - accuracy: 0.9812 - my_jaccard_metric_3: 0.8585\n",
            "Epoch 29/30\n",
            "250/250 [==============================] - 7s 29ms/step - loss: 0.0491 - accuracy: 0.9815 - my_jaccard_metric_3: 0.8606\n",
            "Epoch 30/30\n",
            "250/250 [==============================] - 7s 28ms/step - loss: 0.0486 - accuracy: 0.9816 - my_jaccard_metric_3: 0.8620\n"
          ],
          "name": "stdout"
        }
      ]
    },
    {
      "cell_type": "code",
      "metadata": {
        "colab": {
          "base_uri": "https://localhost:8080/"
        },
        "id": "IBUDcMXk63B_",
        "outputId": "5d56d75f-c51f-41d9-c20e-db8e6f0bfb8e"
      },
      "source": [
        "loss_Q4,Accuracy_Q4,Jaccard_Q4 = model_Q4.evaluate(x = large_x_test.reshape((-1, 56, 56, 1))/255,y = large_y_test)\n",
        "\n",
        "print('\\nloss_Q4     = %.3f' % (loss_Q4))\n",
        "print('Accuracy_Q4 = %.3f%%' % (Accuracy_Q4*100))\n",
        "print('Jaccard_Q4  = %.3f' % Jaccard_Q4)\n",
        "\n",
        "model_Q3.save('/content/drive/MyDrive/CV-HW-images/CV_A3/Image_Segmentation')"
      ],
      "execution_count": 25,
      "outputs": [
        {
          "output_type": "stream",
          "text": [
            "79/79 [==============================] - 1s 12ms/step - loss: 0.0469 - accuracy: 0.9822 - my_jaccard_metric_3: 0.8697\n",
            "\n",
            "loss_Q4     = 0.047\n",
            "Accuracy_Q4 = 98.221%\n",
            "Jaccard_Q4  = 0.870\n",
            "INFO:tensorflow:Assets written to: /content/drive/MyDrive/CV-HW-images/CV_A3/Image_Segmentation/assets\n"
          ],
          "name": "stdout"
        }
      ]
    }
  ]
}